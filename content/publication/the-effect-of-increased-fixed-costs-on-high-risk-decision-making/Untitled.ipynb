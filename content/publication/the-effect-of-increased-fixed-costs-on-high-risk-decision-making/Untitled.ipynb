{
 "cells": [
  {
   "cell_type": "code",
   "execution_count": 2,
   "id": "19c90dae-4e85-4ee2-9206-9b6ebcaec72f",
   "metadata": {},
   "outputs": [],
   "source": [
    "from platform import python_version"
   ]
  },
  {
   "cell_type": "code",
   "execution_count": 3,
   "id": "2fea479c-d3d7-4db9-98e1-d7bb26d61af6",
   "metadata": {},
   "outputs": [
    {
     "name": "stdout",
     "output_type": "stream",
     "text": [
      "3.9.12\n"
     ]
    }
   ],
   "source": [
    "print(python_version())"
   ]
  },
  {
   "cell_type": "code",
   "execution_count": null,
   "id": "a64ff10d-c900-41f9-bfca-461b11cb53ca",
   "metadata": {},
   "outputs": [],
   "source": [
    "\"C:\\Users\\skirk\\Dropbox\\IndustrialPolicyProject\\2_Analysis\\Code\\NLP\\old\\Bert Topics Model_V\\prodigy\\old\\annotation workflow\\0_SetUp.ipynb\""
   ]
  }
 ],
 "metadata": {
  "kernelspec": {
   "display_name": "Python 3 (ipykernel)",
   "language": "python",
   "name": "python3"
  },
  "language_info": {
   "codemirror_mode": {
    "name": "ipython",
    "version": 3
   },
   "file_extension": ".py",
   "mimetype": "text/x-python",
   "name": "python",
   "nbconvert_exporter": "python",
   "pygments_lexer": "ipython3",
   "version": "3.9.12"
  }
 },
 "nbformat": 4,
 "nbformat_minor": 5
}
